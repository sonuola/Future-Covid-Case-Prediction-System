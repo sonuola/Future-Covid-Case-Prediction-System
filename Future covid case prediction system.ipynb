{
  "nbformat": 4,
  "nbformat_minor": 0,
  "metadata": {
    "colab": {
      "provenance": [],
      "collapsed_sections": []
    },
    "kernelspec": {
      "name": "python3",
      "display_name": "Python 3"
    },
    "language_info": {
      "name": "python"
    }
  },
  "cells": [
    {
      "cell_type": "code",
      "metadata": {
        "id": "mvFpcWN6C4rv"
      },
      "source": [
        "import numpy as np\n",
        "import pandas as pd\n",
        "#visualisation libraries\n",
        "import matplotlib.pyplot as plt\n",
        "\n",
        "#machine learning library\n",
        "import sklearn\n",
        "from sklearn.linear_model import LinearRegression\n",
        "\n",
        "#import preprocessing methods from sklearn\n",
        "from sklearn.model_selection import train_test_split\n"
      ],
      "execution_count": 1,
      "outputs": []
    },
    {
      "cell_type": "code",
      "metadata": {
        "id": "4oLqmKslj9Bd"
      },
      "source": [
        "#world confirmed cases"
      ],
      "execution_count": 2,
      "outputs": []
    },
    {
      "cell_type": "code",
      "metadata": {
        "id": "yd36NyUrDAq-"
      },
      "source": [
        "confirmed_cases = pd.read_csv('time_series_covid19_confirmed_global.csv')"
      ],
      "execution_count": 5,
      "outputs": []
    },
    {
      "cell_type": "code",
      "metadata": {
        "colab": {
          "base_uri": "https://localhost:8080/",
          "height": 299
        },
        "id": "YAWn85CSDpAo",
        "outputId": "439762c0-e658-4bef-b2b2-cb5c4419a1ef"
      },
      "source": [
        "confirmed_cases.head()"
      ],
      "execution_count": 6,
      "outputs": [
        {
          "output_type": "execute_result",
          "data": {
            "text/plain": [
              "  Province/State Country/Region       Lat       Long  1/22/20  1/23/20  \\\n",
              "0            NaN    Afghanistan  33.93911  67.709953        0        0   \n",
              "1            NaN        Albania  41.15330  20.168300        0        0   \n",
              "2            NaN        Algeria  28.03390   1.659600        0        0   \n",
              "3            NaN        Andorra  42.50630   1.521800        0        0   \n",
              "4            NaN         Angola -11.20270  17.873900        0        0   \n",
              "\n",
              "   1/24/20  1/25/20  1/26/20  1/27/20  ...  5/9/22  5/10/22  5/11/22  5/12/22  \\\n",
              "0        0        0        0        0  ...  179010   179017   179131   179169   \n",
              "1        0        0        0        0  ...  275372   275416   275440   275485   \n",
              "2        0        0        0        0  ...  265800   265804   265806   265808   \n",
              "3        0        0        0        0  ...   41717    41717    41717    42156   \n",
              "4        0        0        0        0  ...   99287    99287    99287    99287   \n",
              "\n",
              "   5/13/22  5/14/22  5/15/22  5/16/22  5/17/22  5/18/22  \n",
              "0   179203   179242   179267   179321   179328   179477  \n",
              "1   275534   275574   275615   275621   275688   275732  \n",
              "2   265814   265816   265818   265823   265828   265834  \n",
              "3    42156    42156    42156    42156    42156    42572  \n",
              "4    99287    99287    99287    99287    99287    99287  \n",
              "\n",
              "[5 rows x 852 columns]"
            ],
            "text/html": [
              "\n",
              "  <div id=\"df-7e66a2e4-0b96-4195-a088-a9bd44e140e3\">\n",
              "    <div class=\"colab-df-container\">\n",
              "      <div>\n",
              "<style scoped>\n",
              "    .dataframe tbody tr th:only-of-type {\n",
              "        vertical-align: middle;\n",
              "    }\n",
              "\n",
              "    .dataframe tbody tr th {\n",
              "        vertical-align: top;\n",
              "    }\n",
              "\n",
              "    .dataframe thead th {\n",
              "        text-align: right;\n",
              "    }\n",
              "</style>\n",
              "<table border=\"1\" class=\"dataframe\">\n",
              "  <thead>\n",
              "    <tr style=\"text-align: right;\">\n",
              "      <th></th>\n",
              "      <th>Province/State</th>\n",
              "      <th>Country/Region</th>\n",
              "      <th>Lat</th>\n",
              "      <th>Long</th>\n",
              "      <th>1/22/20</th>\n",
              "      <th>1/23/20</th>\n",
              "      <th>1/24/20</th>\n",
              "      <th>1/25/20</th>\n",
              "      <th>1/26/20</th>\n",
              "      <th>1/27/20</th>\n",
              "      <th>...</th>\n",
              "      <th>5/9/22</th>\n",
              "      <th>5/10/22</th>\n",
              "      <th>5/11/22</th>\n",
              "      <th>5/12/22</th>\n",
              "      <th>5/13/22</th>\n",
              "      <th>5/14/22</th>\n",
              "      <th>5/15/22</th>\n",
              "      <th>5/16/22</th>\n",
              "      <th>5/17/22</th>\n",
              "      <th>5/18/22</th>\n",
              "    </tr>\n",
              "  </thead>\n",
              "  <tbody>\n",
              "    <tr>\n",
              "      <th>0</th>\n",
              "      <td>NaN</td>\n",
              "      <td>Afghanistan</td>\n",
              "      <td>33.93911</td>\n",
              "      <td>67.709953</td>\n",
              "      <td>0</td>\n",
              "      <td>0</td>\n",
              "      <td>0</td>\n",
              "      <td>0</td>\n",
              "      <td>0</td>\n",
              "      <td>0</td>\n",
              "      <td>...</td>\n",
              "      <td>179010</td>\n",
              "      <td>179017</td>\n",
              "      <td>179131</td>\n",
              "      <td>179169</td>\n",
              "      <td>179203</td>\n",
              "      <td>179242</td>\n",
              "      <td>179267</td>\n",
              "      <td>179321</td>\n",
              "      <td>179328</td>\n",
              "      <td>179477</td>\n",
              "    </tr>\n",
              "    <tr>\n",
              "      <th>1</th>\n",
              "      <td>NaN</td>\n",
              "      <td>Albania</td>\n",
              "      <td>41.15330</td>\n",
              "      <td>20.168300</td>\n",
              "      <td>0</td>\n",
              "      <td>0</td>\n",
              "      <td>0</td>\n",
              "      <td>0</td>\n",
              "      <td>0</td>\n",
              "      <td>0</td>\n",
              "      <td>...</td>\n",
              "      <td>275372</td>\n",
              "      <td>275416</td>\n",
              "      <td>275440</td>\n",
              "      <td>275485</td>\n",
              "      <td>275534</td>\n",
              "      <td>275574</td>\n",
              "      <td>275615</td>\n",
              "      <td>275621</td>\n",
              "      <td>275688</td>\n",
              "      <td>275732</td>\n",
              "    </tr>\n",
              "    <tr>\n",
              "      <th>2</th>\n",
              "      <td>NaN</td>\n",
              "      <td>Algeria</td>\n",
              "      <td>28.03390</td>\n",
              "      <td>1.659600</td>\n",
              "      <td>0</td>\n",
              "      <td>0</td>\n",
              "      <td>0</td>\n",
              "      <td>0</td>\n",
              "      <td>0</td>\n",
              "      <td>0</td>\n",
              "      <td>...</td>\n",
              "      <td>265800</td>\n",
              "      <td>265804</td>\n",
              "      <td>265806</td>\n",
              "      <td>265808</td>\n",
              "      <td>265814</td>\n",
              "      <td>265816</td>\n",
              "      <td>265818</td>\n",
              "      <td>265823</td>\n",
              "      <td>265828</td>\n",
              "      <td>265834</td>\n",
              "    </tr>\n",
              "    <tr>\n",
              "      <th>3</th>\n",
              "      <td>NaN</td>\n",
              "      <td>Andorra</td>\n",
              "      <td>42.50630</td>\n",
              "      <td>1.521800</td>\n",
              "      <td>0</td>\n",
              "      <td>0</td>\n",
              "      <td>0</td>\n",
              "      <td>0</td>\n",
              "      <td>0</td>\n",
              "      <td>0</td>\n",
              "      <td>...</td>\n",
              "      <td>41717</td>\n",
              "      <td>41717</td>\n",
              "      <td>41717</td>\n",
              "      <td>42156</td>\n",
              "      <td>42156</td>\n",
              "      <td>42156</td>\n",
              "      <td>42156</td>\n",
              "      <td>42156</td>\n",
              "      <td>42156</td>\n",
              "      <td>42572</td>\n",
              "    </tr>\n",
              "    <tr>\n",
              "      <th>4</th>\n",
              "      <td>NaN</td>\n",
              "      <td>Angola</td>\n",
              "      <td>-11.20270</td>\n",
              "      <td>17.873900</td>\n",
              "      <td>0</td>\n",
              "      <td>0</td>\n",
              "      <td>0</td>\n",
              "      <td>0</td>\n",
              "      <td>0</td>\n",
              "      <td>0</td>\n",
              "      <td>...</td>\n",
              "      <td>99287</td>\n",
              "      <td>99287</td>\n",
              "      <td>99287</td>\n",
              "      <td>99287</td>\n",
              "      <td>99287</td>\n",
              "      <td>99287</td>\n",
              "      <td>99287</td>\n",
              "      <td>99287</td>\n",
              "      <td>99287</td>\n",
              "      <td>99287</td>\n",
              "    </tr>\n",
              "  </tbody>\n",
              "</table>\n",
              "<p>5 rows × 852 columns</p>\n",
              "</div>\n",
              "      <button class=\"colab-df-convert\" onclick=\"convertToInteractive('df-7e66a2e4-0b96-4195-a088-a9bd44e140e3')\"\n",
              "              title=\"Convert this dataframe to an interactive table.\"\n",
              "              style=\"display:none;\">\n",
              "        \n",
              "  <svg xmlns=\"http://www.w3.org/2000/svg\" height=\"24px\"viewBox=\"0 0 24 24\"\n",
              "       width=\"24px\">\n",
              "    <path d=\"M0 0h24v24H0V0z\" fill=\"none\"/>\n",
              "    <path d=\"M18.56 5.44l.94 2.06.94-2.06 2.06-.94-2.06-.94-.94-2.06-.94 2.06-2.06.94zm-11 1L8.5 8.5l.94-2.06 2.06-.94-2.06-.94L8.5 2.5l-.94 2.06-2.06.94zm10 10l.94 2.06.94-2.06 2.06-.94-2.06-.94-.94-2.06-.94 2.06-2.06.94z\"/><path d=\"M17.41 7.96l-1.37-1.37c-.4-.4-.92-.59-1.43-.59-.52 0-1.04.2-1.43.59L10.3 9.45l-7.72 7.72c-.78.78-.78 2.05 0 2.83L4 21.41c.39.39.9.59 1.41.59.51 0 1.02-.2 1.41-.59l7.78-7.78 2.81-2.81c.8-.78.8-2.07 0-2.86zM5.41 20L4 18.59l7.72-7.72 1.47 1.35L5.41 20z\"/>\n",
              "  </svg>\n",
              "      </button>\n",
              "      \n",
              "  <style>\n",
              "    .colab-df-container {\n",
              "      display:flex;\n",
              "      flex-wrap:wrap;\n",
              "      gap: 12px;\n",
              "    }\n",
              "\n",
              "    .colab-df-convert {\n",
              "      background-color: #E8F0FE;\n",
              "      border: none;\n",
              "      border-radius: 50%;\n",
              "      cursor: pointer;\n",
              "      display: none;\n",
              "      fill: #1967D2;\n",
              "      height: 32px;\n",
              "      padding: 0 0 0 0;\n",
              "      width: 32px;\n",
              "    }\n",
              "\n",
              "    .colab-df-convert:hover {\n",
              "      background-color: #E2EBFA;\n",
              "      box-shadow: 0px 1px 2px rgba(60, 64, 67, 0.3), 0px 1px 3px 1px rgba(60, 64, 67, 0.15);\n",
              "      fill: #174EA6;\n",
              "    }\n",
              "\n",
              "    [theme=dark] .colab-df-convert {\n",
              "      background-color: #3B4455;\n",
              "      fill: #D2E3FC;\n",
              "    }\n",
              "\n",
              "    [theme=dark] .colab-df-convert:hover {\n",
              "      background-color: #434B5C;\n",
              "      box-shadow: 0px 1px 3px 1px rgba(0, 0, 0, 0.15);\n",
              "      filter: drop-shadow(0px 1px 2px rgba(0, 0, 0, 0.3));\n",
              "      fill: #FFFFFF;\n",
              "    }\n",
              "  </style>\n",
              "\n",
              "      <script>\n",
              "        const buttonEl =\n",
              "          document.querySelector('#df-7e66a2e4-0b96-4195-a088-a9bd44e140e3 button.colab-df-convert');\n",
              "        buttonEl.style.display =\n",
              "          google.colab.kernel.accessAllowed ? 'block' : 'none';\n",
              "\n",
              "        async function convertToInteractive(key) {\n",
              "          const element = document.querySelector('#df-7e66a2e4-0b96-4195-a088-a9bd44e140e3');\n",
              "          const dataTable =\n",
              "            await google.colab.kernel.invokeFunction('convertToInteractive',\n",
              "                                                     [key], {});\n",
              "          if (!dataTable) return;\n",
              "\n",
              "          const docLinkHtml = 'Like what you see? Visit the ' +\n",
              "            '<a target=\"_blank\" href=https://colab.research.google.com/notebooks/data_table.ipynb>data table notebook</a>'\n",
              "            + ' to learn more about interactive tables.';\n",
              "          element.innerHTML = '';\n",
              "          dataTable['output_type'] = 'display_data';\n",
              "          await google.colab.output.renderOutput(dataTable, element);\n",
              "          const docLink = document.createElement('div');\n",
              "          docLink.innerHTML = docLinkHtml;\n",
              "          element.appendChild(docLink);\n",
              "        }\n",
              "      </script>\n",
              "    </div>\n",
              "  </div>\n",
              "  "
            ]
          },
          "metadata": {},
          "execution_count": 6
        }
      ]
    },
    {
      "cell_type": "code",
      "metadata": {
        "colab": {
          "base_uri": "https://localhost:8080/"
        },
        "id": "IqEpD6FKDrVt",
        "outputId": "594f1ade-0bd4-4bb0-aba1-1162dc8e4dae"
      },
      "source": [
        "cols= confirmed_cases.keys()\n",
        "print(cols)"
      ],
      "execution_count": 7,
      "outputs": [
        {
          "output_type": "stream",
          "name": "stdout",
          "text": [
            "Index(['Province/State', 'Country/Region', 'Lat', 'Long', '1/22/20', '1/23/20',\n",
            "       '1/24/20', '1/25/20', '1/26/20', '1/27/20',\n",
            "       ...\n",
            "       '5/9/22', '5/10/22', '5/11/22', '5/12/22', '5/13/22', '5/14/22',\n",
            "       '5/15/22', '5/16/22', '5/17/22', '5/18/22'],\n",
            "      dtype='object', length=852)\n"
          ]
        }
      ]
    },
    {
      "cell_type": "code",
      "metadata": {
        "colab": {
          "base_uri": "https://localhost:8080/",
          "height": 488
        },
        "id": "EIXMq8x7D7NJ",
        "outputId": "3a43b1ea-e3aa-4b93-c10e-b7c4b3f24d8c"
      },
      "source": [
        "confirmed = confirmed_cases.loc[:,cols[4]:cols[-1]]\n",
        "#confirmed = confirmed_cases.iloc[1:3]\n",
        "confirmed"
      ],
      "execution_count": 8,
      "outputs": [
        {
          "output_type": "execute_result",
          "data": {
            "text/plain": [
              "     1/22/20  1/23/20  1/24/20  1/25/20  1/26/20  1/27/20  1/28/20  1/29/20  \\\n",
              "0          0        0        0        0        0        0        0        0   \n",
              "1          0        0        0        0        0        0        0        0   \n",
              "2          0        0        0        0        0        0        0        0   \n",
              "3          0        0        0        0        0        0        0        0   \n",
              "4          0        0        0        0        0        0        0        0   \n",
              "..       ...      ...      ...      ...      ...      ...      ...      ...   \n",
              "280        0        0        0        0        0        0        0        0   \n",
              "281        0        0        0        0        0        0        0        0   \n",
              "282        0        0        0        0        0        0        0        0   \n",
              "283        0        0        0        0        0        0        0        0   \n",
              "284        0        0        0        0        0        0        0        0   \n",
              "\n",
              "     1/30/20  1/31/20  ...  5/9/22  5/10/22  5/11/22  5/12/22  5/13/22  \\\n",
              "0          0        0  ...  179010   179017   179131   179169   179203   \n",
              "1          0        0  ...  275372   275416   275440   275485   275534   \n",
              "2          0        0  ...  265800   265804   265806   265808   265814   \n",
              "3          0        0  ...   41717    41717    41717    42156    42156   \n",
              "4          0        0  ...   99287    99287    99287    99287    99287   \n",
              "..       ...      ...  ...     ...      ...      ...      ...      ...   \n",
              "280        0        0  ...  657193   657193   657193   657193   657193   \n",
              "281        0        0  ...     535      535      535      535      535   \n",
              "282        0        0  ...   11819    11819    11819    11819    11819   \n",
              "283        0        0  ...  320157   320226   320303   320412   320481   \n",
              "284        0        0  ...  248536   248642   248642   248943   249131   \n",
              "\n",
              "     5/14/22  5/15/22  5/16/22  5/17/22  5/18/22  \n",
              "0     179242   179267   179321   179328   179477  \n",
              "1     275574   275615   275621   275688   275732  \n",
              "2     265816   265818   265823   265828   265834  \n",
              "3      42156    42156    42156    42156    42572  \n",
              "4      99287    99287    99287    99287    99287  \n",
              "..       ...      ...      ...      ...      ...  \n",
              "280   657193   657193   657329   657456   657456  \n",
              "281      535      535      535      535      535  \n",
              "282    11819    11819    11819    11819    11819  \n",
              "283   320591   320627   320680   320680   320680  \n",
              "284   249206   249206   249431   249748   250007  \n",
              "\n",
              "[285 rows x 848 columns]"
            ],
            "text/html": [
              "\n",
              "  <div id=\"df-7a61bceb-fea0-4361-b86a-a59a399ab4d2\">\n",
              "    <div class=\"colab-df-container\">\n",
              "      <div>\n",
              "<style scoped>\n",
              "    .dataframe tbody tr th:only-of-type {\n",
              "        vertical-align: middle;\n",
              "    }\n",
              "\n",
              "    .dataframe tbody tr th {\n",
              "        vertical-align: top;\n",
              "    }\n",
              "\n",
              "    .dataframe thead th {\n",
              "        text-align: right;\n",
              "    }\n",
              "</style>\n",
              "<table border=\"1\" class=\"dataframe\">\n",
              "  <thead>\n",
              "    <tr style=\"text-align: right;\">\n",
              "      <th></th>\n",
              "      <th>1/22/20</th>\n",
              "      <th>1/23/20</th>\n",
              "      <th>1/24/20</th>\n",
              "      <th>1/25/20</th>\n",
              "      <th>1/26/20</th>\n",
              "      <th>1/27/20</th>\n",
              "      <th>1/28/20</th>\n",
              "      <th>1/29/20</th>\n",
              "      <th>1/30/20</th>\n",
              "      <th>1/31/20</th>\n",
              "      <th>...</th>\n",
              "      <th>5/9/22</th>\n",
              "      <th>5/10/22</th>\n",
              "      <th>5/11/22</th>\n",
              "      <th>5/12/22</th>\n",
              "      <th>5/13/22</th>\n",
              "      <th>5/14/22</th>\n",
              "      <th>5/15/22</th>\n",
              "      <th>5/16/22</th>\n",
              "      <th>5/17/22</th>\n",
              "      <th>5/18/22</th>\n",
              "    </tr>\n",
              "  </thead>\n",
              "  <tbody>\n",
              "    <tr>\n",
              "      <th>0</th>\n",
              "      <td>0</td>\n",
              "      <td>0</td>\n",
              "      <td>0</td>\n",
              "      <td>0</td>\n",
              "      <td>0</td>\n",
              "      <td>0</td>\n",
              "      <td>0</td>\n",
              "      <td>0</td>\n",
              "      <td>0</td>\n",
              "      <td>0</td>\n",
              "      <td>...</td>\n",
              "      <td>179010</td>\n",
              "      <td>179017</td>\n",
              "      <td>179131</td>\n",
              "      <td>179169</td>\n",
              "      <td>179203</td>\n",
              "      <td>179242</td>\n",
              "      <td>179267</td>\n",
              "      <td>179321</td>\n",
              "      <td>179328</td>\n",
              "      <td>179477</td>\n",
              "    </tr>\n",
              "    <tr>\n",
              "      <th>1</th>\n",
              "      <td>0</td>\n",
              "      <td>0</td>\n",
              "      <td>0</td>\n",
              "      <td>0</td>\n",
              "      <td>0</td>\n",
              "      <td>0</td>\n",
              "      <td>0</td>\n",
              "      <td>0</td>\n",
              "      <td>0</td>\n",
              "      <td>0</td>\n",
              "      <td>...</td>\n",
              "      <td>275372</td>\n",
              "      <td>275416</td>\n",
              "      <td>275440</td>\n",
              "      <td>275485</td>\n",
              "      <td>275534</td>\n",
              "      <td>275574</td>\n",
              "      <td>275615</td>\n",
              "      <td>275621</td>\n",
              "      <td>275688</td>\n",
              "      <td>275732</td>\n",
              "    </tr>\n",
              "    <tr>\n",
              "      <th>2</th>\n",
              "      <td>0</td>\n",
              "      <td>0</td>\n",
              "      <td>0</td>\n",
              "      <td>0</td>\n",
              "      <td>0</td>\n",
              "      <td>0</td>\n",
              "      <td>0</td>\n",
              "      <td>0</td>\n",
              "      <td>0</td>\n",
              "      <td>0</td>\n",
              "      <td>...</td>\n",
              "      <td>265800</td>\n",
              "      <td>265804</td>\n",
              "      <td>265806</td>\n",
              "      <td>265808</td>\n",
              "      <td>265814</td>\n",
              "      <td>265816</td>\n",
              "      <td>265818</td>\n",
              "      <td>265823</td>\n",
              "      <td>265828</td>\n",
              "      <td>265834</td>\n",
              "    </tr>\n",
              "    <tr>\n",
              "      <th>3</th>\n",
              "      <td>0</td>\n",
              "      <td>0</td>\n",
              "      <td>0</td>\n",
              "      <td>0</td>\n",
              "      <td>0</td>\n",
              "      <td>0</td>\n",
              "      <td>0</td>\n",
              "      <td>0</td>\n",
              "      <td>0</td>\n",
              "      <td>0</td>\n",
              "      <td>...</td>\n",
              "      <td>41717</td>\n",
              "      <td>41717</td>\n",
              "      <td>41717</td>\n",
              "      <td>42156</td>\n",
              "      <td>42156</td>\n",
              "      <td>42156</td>\n",
              "      <td>42156</td>\n",
              "      <td>42156</td>\n",
              "      <td>42156</td>\n",
              "      <td>42572</td>\n",
              "    </tr>\n",
              "    <tr>\n",
              "      <th>4</th>\n",
              "      <td>0</td>\n",
              "      <td>0</td>\n",
              "      <td>0</td>\n",
              "      <td>0</td>\n",
              "      <td>0</td>\n",
              "      <td>0</td>\n",
              "      <td>0</td>\n",
              "      <td>0</td>\n",
              "      <td>0</td>\n",
              "      <td>0</td>\n",
              "      <td>...</td>\n",
              "      <td>99287</td>\n",
              "      <td>99287</td>\n",
              "      <td>99287</td>\n",
              "      <td>99287</td>\n",
              "      <td>99287</td>\n",
              "      <td>99287</td>\n",
              "      <td>99287</td>\n",
              "      <td>99287</td>\n",
              "      <td>99287</td>\n",
              "      <td>99287</td>\n",
              "    </tr>\n",
              "    <tr>\n",
              "      <th>...</th>\n",
              "      <td>...</td>\n",
              "      <td>...</td>\n",
              "      <td>...</td>\n",
              "      <td>...</td>\n",
              "      <td>...</td>\n",
              "      <td>...</td>\n",
              "      <td>...</td>\n",
              "      <td>...</td>\n",
              "      <td>...</td>\n",
              "      <td>...</td>\n",
              "      <td>...</td>\n",
              "      <td>...</td>\n",
              "      <td>...</td>\n",
              "      <td>...</td>\n",
              "      <td>...</td>\n",
              "      <td>...</td>\n",
              "      <td>...</td>\n",
              "      <td>...</td>\n",
              "      <td>...</td>\n",
              "      <td>...</td>\n",
              "      <td>...</td>\n",
              "    </tr>\n",
              "    <tr>\n",
              "      <th>280</th>\n",
              "      <td>0</td>\n",
              "      <td>0</td>\n",
              "      <td>0</td>\n",
              "      <td>0</td>\n",
              "      <td>0</td>\n",
              "      <td>0</td>\n",
              "      <td>0</td>\n",
              "      <td>0</td>\n",
              "      <td>0</td>\n",
              "      <td>0</td>\n",
              "      <td>...</td>\n",
              "      <td>657193</td>\n",
              "      <td>657193</td>\n",
              "      <td>657193</td>\n",
              "      <td>657193</td>\n",
              "      <td>657193</td>\n",
              "      <td>657193</td>\n",
              "      <td>657193</td>\n",
              "      <td>657329</td>\n",
              "      <td>657456</td>\n",
              "      <td>657456</td>\n",
              "    </tr>\n",
              "    <tr>\n",
              "      <th>281</th>\n",
              "      <td>0</td>\n",
              "      <td>0</td>\n",
              "      <td>0</td>\n",
              "      <td>0</td>\n",
              "      <td>0</td>\n",
              "      <td>0</td>\n",
              "      <td>0</td>\n",
              "      <td>0</td>\n",
              "      <td>0</td>\n",
              "      <td>0</td>\n",
              "      <td>...</td>\n",
              "      <td>535</td>\n",
              "      <td>535</td>\n",
              "      <td>535</td>\n",
              "      <td>535</td>\n",
              "      <td>535</td>\n",
              "      <td>535</td>\n",
              "      <td>535</td>\n",
              "      <td>535</td>\n",
              "      <td>535</td>\n",
              "      <td>535</td>\n",
              "    </tr>\n",
              "    <tr>\n",
              "      <th>282</th>\n",
              "      <td>0</td>\n",
              "      <td>0</td>\n",
              "      <td>0</td>\n",
              "      <td>0</td>\n",
              "      <td>0</td>\n",
              "      <td>0</td>\n",
              "      <td>0</td>\n",
              "      <td>0</td>\n",
              "      <td>0</td>\n",
              "      <td>0</td>\n",
              "      <td>...</td>\n",
              "      <td>11819</td>\n",
              "      <td>11819</td>\n",
              "      <td>11819</td>\n",
              "      <td>11819</td>\n",
              "      <td>11819</td>\n",
              "      <td>11819</td>\n",
              "      <td>11819</td>\n",
              "      <td>11819</td>\n",
              "      <td>11819</td>\n",
              "      <td>11819</td>\n",
              "    </tr>\n",
              "    <tr>\n",
              "      <th>283</th>\n",
              "      <td>0</td>\n",
              "      <td>0</td>\n",
              "      <td>0</td>\n",
              "      <td>0</td>\n",
              "      <td>0</td>\n",
              "      <td>0</td>\n",
              "      <td>0</td>\n",
              "      <td>0</td>\n",
              "      <td>0</td>\n",
              "      <td>0</td>\n",
              "      <td>...</td>\n",
              "      <td>320157</td>\n",
              "      <td>320226</td>\n",
              "      <td>320303</td>\n",
              "      <td>320412</td>\n",
              "      <td>320481</td>\n",
              "      <td>320591</td>\n",
              "      <td>320627</td>\n",
              "      <td>320680</td>\n",
              "      <td>320680</td>\n",
              "      <td>320680</td>\n",
              "    </tr>\n",
              "    <tr>\n",
              "      <th>284</th>\n",
              "      <td>0</td>\n",
              "      <td>0</td>\n",
              "      <td>0</td>\n",
              "      <td>0</td>\n",
              "      <td>0</td>\n",
              "      <td>0</td>\n",
              "      <td>0</td>\n",
              "      <td>0</td>\n",
              "      <td>0</td>\n",
              "      <td>0</td>\n",
              "      <td>...</td>\n",
              "      <td>248536</td>\n",
              "      <td>248642</td>\n",
              "      <td>248642</td>\n",
              "      <td>248943</td>\n",
              "      <td>249131</td>\n",
              "      <td>249206</td>\n",
              "      <td>249206</td>\n",
              "      <td>249431</td>\n",
              "      <td>249748</td>\n",
              "      <td>250007</td>\n",
              "    </tr>\n",
              "  </tbody>\n",
              "</table>\n",
              "<p>285 rows × 848 columns</p>\n",
              "</div>\n",
              "      <button class=\"colab-df-convert\" onclick=\"convertToInteractive('df-7a61bceb-fea0-4361-b86a-a59a399ab4d2')\"\n",
              "              title=\"Convert this dataframe to an interactive table.\"\n",
              "              style=\"display:none;\">\n",
              "        \n",
              "  <svg xmlns=\"http://www.w3.org/2000/svg\" height=\"24px\"viewBox=\"0 0 24 24\"\n",
              "       width=\"24px\">\n",
              "    <path d=\"M0 0h24v24H0V0z\" fill=\"none\"/>\n",
              "    <path d=\"M18.56 5.44l.94 2.06.94-2.06 2.06-.94-2.06-.94-.94-2.06-.94 2.06-2.06.94zm-11 1L8.5 8.5l.94-2.06 2.06-.94-2.06-.94L8.5 2.5l-.94 2.06-2.06.94zm10 10l.94 2.06.94-2.06 2.06-.94-2.06-.94-.94-2.06-.94 2.06-2.06.94z\"/><path d=\"M17.41 7.96l-1.37-1.37c-.4-.4-.92-.59-1.43-.59-.52 0-1.04.2-1.43.59L10.3 9.45l-7.72 7.72c-.78.78-.78 2.05 0 2.83L4 21.41c.39.39.9.59 1.41.59.51 0 1.02-.2 1.41-.59l7.78-7.78 2.81-2.81c.8-.78.8-2.07 0-2.86zM5.41 20L4 18.59l7.72-7.72 1.47 1.35L5.41 20z\"/>\n",
              "  </svg>\n",
              "      </button>\n",
              "      \n",
              "  <style>\n",
              "    .colab-df-container {\n",
              "      display:flex;\n",
              "      flex-wrap:wrap;\n",
              "      gap: 12px;\n",
              "    }\n",
              "\n",
              "    .colab-df-convert {\n",
              "      background-color: #E8F0FE;\n",
              "      border: none;\n",
              "      border-radius: 50%;\n",
              "      cursor: pointer;\n",
              "      display: none;\n",
              "      fill: #1967D2;\n",
              "      height: 32px;\n",
              "      padding: 0 0 0 0;\n",
              "      width: 32px;\n",
              "    }\n",
              "\n",
              "    .colab-df-convert:hover {\n",
              "      background-color: #E2EBFA;\n",
              "      box-shadow: 0px 1px 2px rgba(60, 64, 67, 0.3), 0px 1px 3px 1px rgba(60, 64, 67, 0.15);\n",
              "      fill: #174EA6;\n",
              "    }\n",
              "\n",
              "    [theme=dark] .colab-df-convert {\n",
              "      background-color: #3B4455;\n",
              "      fill: #D2E3FC;\n",
              "    }\n",
              "\n",
              "    [theme=dark] .colab-df-convert:hover {\n",
              "      background-color: #434B5C;\n",
              "      box-shadow: 0px 1px 3px 1px rgba(0, 0, 0, 0.15);\n",
              "      filter: drop-shadow(0px 1px 2px rgba(0, 0, 0, 0.3));\n",
              "      fill: #FFFFFF;\n",
              "    }\n",
              "  </style>\n",
              "\n",
              "      <script>\n",
              "        const buttonEl =\n",
              "          document.querySelector('#df-7a61bceb-fea0-4361-b86a-a59a399ab4d2 button.colab-df-convert');\n",
              "        buttonEl.style.display =\n",
              "          google.colab.kernel.accessAllowed ? 'block' : 'none';\n",
              "\n",
              "        async function convertToInteractive(key) {\n",
              "          const element = document.querySelector('#df-7a61bceb-fea0-4361-b86a-a59a399ab4d2');\n",
              "          const dataTable =\n",
              "            await google.colab.kernel.invokeFunction('convertToInteractive',\n",
              "                                                     [key], {});\n",
              "          if (!dataTable) return;\n",
              "\n",
              "          const docLinkHtml = 'Like what you see? Visit the ' +\n",
              "            '<a target=\"_blank\" href=https://colab.research.google.com/notebooks/data_table.ipynb>data table notebook</a>'\n",
              "            + ' to learn more about interactive tables.';\n",
              "          element.innerHTML = '';\n",
              "          dataTable['output_type'] = 'display_data';\n",
              "          await google.colab.output.renderOutput(dataTable, element);\n",
              "          const docLink = document.createElement('div');\n",
              "          docLink.innerHTML = docLinkHtml;\n",
              "          element.appendChild(docLink);\n",
              "        }\n",
              "      </script>\n",
              "    </div>\n",
              "  </div>\n",
              "  "
            ]
          },
          "metadata": {},
          "execution_count": 8
        }
      ]
    },
    {
      "cell_type": "code",
      "metadata": {
        "colab": {
          "base_uri": "https://localhost:8080/"
        },
        "id": "JT6OA0NaEFKD",
        "outputId": "c782e1e3-5196-4205-f5a5-32d18dc43947"
      },
      "source": [
        "dates= confirmed.keys()\n",
        "dates"
      ],
      "execution_count": 9,
      "outputs": [
        {
          "output_type": "execute_result",
          "data": {
            "text/plain": [
              "Index(['1/22/20', '1/23/20', '1/24/20', '1/25/20', '1/26/20', '1/27/20',\n",
              "       '1/28/20', '1/29/20', '1/30/20', '1/31/20',\n",
              "       ...\n",
              "       '5/9/22', '5/10/22', '5/11/22', '5/12/22', '5/13/22', '5/14/22',\n",
              "       '5/15/22', '5/16/22', '5/17/22', '5/18/22'],\n",
              "      dtype='object', length=848)"
            ]
          },
          "metadata": {},
          "execution_count": 9
        }
      ]
    },
    {
      "cell_type": "code",
      "metadata": {
        "id": "ws5cSX6XEN8R"
      },
      "source": [
        "world_cases=[]\n",
        "\n",
        "\n",
        "\n",
        "for i in dates:\n",
        "   confirmed_sum=confirmed[i].sum()\n",
        "   #print(confirmed[i])\n",
        "   \n",
        "   \n",
        "   world_cases.append(confirmed_sum)\n",
        "  \n",
        "   \n",
        "\n",
        "\n"
      ],
      "execution_count": 10,
      "outputs": []
    },
    {
      "cell_type": "code",
      "metadata": {
        "colab": {
          "base_uri": "https://localhost:8080/"
        },
        "id": "UFDokRP2ESl8",
        "outputId": "5e8048ae-a028-4dbf-8f3b-e7d2cf0e1d9e"
      },
      "source": [
        "print(confirmed_sum)"
      ],
      "execution_count": 11,
      "outputs": [
        {
          "output_type": "stream",
          "name": "stdout",
          "text": [
            "523451453\n"
          ]
        }
      ]
    },
    {
      "cell_type": "code",
      "metadata": {
        "id": "j8c4StfpEbKB"
      },
      "source": [
        "#changing dates into days\n",
        "v=1\n",
        "day_date=[]\n",
        "for i in range(len(dates)):\n",
        "  v=i*1\n",
        "  day_date.append(v)\n",
        "#day_date\n"
      ],
      "execution_count": 12,
      "outputs": []
    },
    {
      "cell_type": "code",
      "metadata": {
        "colab": {
          "base_uri": "https://localhost:8080/",
          "height": 710
        },
        "id": "N1CA_cmAEgfm",
        "outputId": "b49285a1-3bd8-4e65-99be-f1b261bd439b"
      },
      "source": [
        "#ploing the cases[confirmed,recovered,deaths] with time\n",
        "plt.figure(figsize=(20,12))\n",
        "plt.plot(day_date,world_cases,color='blue')\n",
        "plt.show"
      ],
      "execution_count": 13,
      "outputs": [
        {
          "output_type": "execute_result",
          "data": {
            "text/plain": [
              "<function matplotlib.pyplot.show(*args, **kw)>"
            ]
          },
          "metadata": {},
          "execution_count": 13
        },
        {
          "output_type": "display_data",
          "data": {
            "text/plain": [
              "<Figure size 1440x864 with 1 Axes>"
            ],
            "image/png": "[encoded data removed]"
          },
          "metadata": {
            "needs_background": "light"
          }
        }
      ]
    },
    {
      "cell_type": "code",
      "metadata": {
        "id": "UaSZdVgmEj9O"
      },
      "source": [
        "#check each day cases\n",
        "\n",
        "def eachday_increase(records):\n",
        "  d=[]\n",
        "  for i in range(len(records)):\n",
        "    if i==0:\n",
        "        d.append(records[0])\n",
        "    else:\n",
        "        d.append(records[i]-records[i-1])\n",
        "  return d"
      ],
      "execution_count": 14,
      "outputs": []
    },
    {
      "cell_type": "code",
      "metadata": {
        "id": "cGNpE7XGEqUz"
      },
      "source": [
        "world_daily_increase = eachday_increase(world_cases)\n",
        "#world_daily_increase"
      ],
      "execution_count": 15,
      "outputs": []
    },
    {
      "cell_type": "code",
      "metadata": {
        "colab": {
          "base_uri": "https://localhost:8080/"
        },
        "id": "dCKSvl42EtgN",
        "outputId": "4dcbe2dd-b831-445d-c8b1-89506b826ce2"
      },
      "source": [
        "print(type(world_cases))"
      ],
      "execution_count": 16,
      "outputs": [
        {
          "output_type": "stream",
          "name": "stdout",
          "text": [
            "<class 'list'>\n"
          ]
        }
      ]
    },
    {
      "cell_type": "code",
      "metadata": {
        "id": "-dhgT51RExCi"
      },
      "source": [
        "world_cases = np.array(world_cases).reshape(-1,1)"
      ],
      "execution_count": 17,
      "outputs": []
    },
    {
      "cell_type": "code",
      "metadata": {
        "colab": {
          "base_uri": "https://localhost:8080/"
        },
        "id": "8EKnFoeRE10x",
        "outputId": "a7f87c74-9fbb-4a41-94ae-748ec08d19b6"
      },
      "source": [
        "print(world_cases.shape)"
      ],
      "execution_count": 18,
      "outputs": [
        {
          "output_type": "stream",
          "name": "stdout",
          "text": [
            "(848, 1)\n"
          ]
        }
      ]
    },
    {
      "cell_type": "code",
      "metadata": {
        "colab": {
          "base_uri": "https://localhost:8080/"
        },
        "id": "QwiUVnnCE8Hj",
        "outputId": "f2f2f63f-23a7-44f8-dc14-4a38a56665e9"
      },
      "source": [
        "days= np.array(day_date).reshape(-1,1)\n",
        "print(days.shape)"
      ],
      "execution_count": 19,
      "outputs": [
        {
          "output_type": "stream",
          "name": "stdout",
          "text": [
            "(848, 1)\n"
          ]
        }
      ]
    },
    {
      "cell_type": "code",
      "metadata": {
        "id": "_Dh2kD3HFzFS"
      },
      "source": [
        "days_in_future= 10\n",
        "\n",
        "future_forcast = np.array([i for i in range(len(days)+ days_in_future)]).reshape(-1,1)\n",
        "\n",
        "adjusted_dates = future_forcast[:-10]"
      ],
      "execution_count": 20,
      "outputs": []
    },
    {
      "cell_type": "code",
      "metadata": {
        "id": "NflXljrzF28l"
      },
      "source": [
        "#future_forcast\n",
        "#adjusted_dates"
      ],
      "execution_count": 21,
      "outputs": []
    },
    {
      "cell_type": "code",
      "metadata": {
        "id": "RDPnCbL_F7KA"
      },
      "source": [
        "x_train_confirmed,x_test_confirmed,y_train_confirmed,y_test_confirmed = train_test_split(days,world_cases,test_size=0.25,shuffle=False)"
      ],
      "execution_count": 22,
      "outputs": []
    },
    {
      "cell_type": "code",
      "metadata": {
        "id": "50wYzVS7F-wx"
      },
      "source": [
        " from sklearn.preprocessing import PolynomialFeatures\n",
        "poly =PolynomialFeatures(degree=2)\n",
        "poly_x_train_confirmed= poly.fit_transform(x_train_confirmed)\n",
        "poly_x_test_confirmed=poly.fit_transform(x_test_confirmed)\n",
        "poly_future_forcast= poly.fit_transform(future_forcast)\n",
        "\n"
      ],
      "execution_count": 23,
      "outputs": []
    },
    {
      "cell_type": "code",
      "metadata": {
        "colab": {
          "base_uri": "https://localhost:8080/"
        },
        "id": "AI0fEOn3GKkQ",
        "outputId": "e0102fc2-6145-4247-f552-5cd40802d2d0"
      },
      "source": [
        "model= LinearRegression()\n",
        "model.fit(poly_x_train_confirmed,y_train_confirmed)"
      ],
      "execution_count": 24,
      "outputs": [
        {
          "output_type": "execute_result",
          "data": {
            "text/plain": [
              "LinearRegression()"
            ]
          },
          "metadata": {},
          "execution_count": 24
        }
      ]
    },
    {
      "cell_type": "code",
      "metadata": {
        "id": "8178QEKZGOoK"
      },
      "source": [
        "test_pred =model.predict(poly_x_test_confirmed)"
      ],
      "execution_count": 25,
      "outputs": []
    },
    {
      "cell_type": "code",
      "metadata": {
        "id": "t7f7iTZhGR9M"
      },
      "source": [
        "predictions = model.predict(poly_future_forcast)\n"
      ],
      "execution_count": 26,
      "outputs": []
    },
    {
      "cell_type": "code",
      "metadata": {
        "id": "iTstgBlaGWGT"
      },
      "source": [
        "from sklearn.metrics import mean_squared_error,mean_absolute_error"
      ],
      "execution_count": 27,
      "outputs": []
    },
    {
      "cell_type": "code",
      "metadata": {
        "colab": {
          "base_uri": "https://localhost:8080/",
          "height": 293
        },
        "id": "k5OY-u5ZGjvG",
        "outputId": "d14f6489-0e2f-40b3-f4d2-64335f7e4105"
      },
      "source": [
        "plt.plot(y_test_confirmed,color='yellow')\n",
        "plt.plot(test_pred)"
      ],
      "execution_count": 28,
      "outputs": [
        {
          "output_type": "execute_result",
          "data": {
            "text/plain": [
              "[<matplotlib.lines.Line2D at 0x7f77e72af190>]"
            ]
          },
          "metadata": {},
          "execution_count": 28
        },
        {
          "output_type": "display_data",
          "data": {
            "text/plain": [
              "<Figure size 432x288 with 1 Axes>"
            ],
            "image/png": "[encoded data removed]"
          },
          "metadata": {
            "needs_background": "light"
          }
        }
      ]
    },
    {
      "cell_type": "code",
      "metadata": {
        "id": "ONOhPtmJkEhH"
      },
      "source": [
        "# world deaths"
      ],
      "execution_count": 29,
      "outputs": []
    },
    {
      "cell_type": "code",
      "metadata": {
        "id": "MGbsjNw0kH2a"
      },
      "source": [
        "deaths_reported=pd.read_csv('time_series_covid19_deaths_global.csv')"
      ],
      "execution_count": 30,
      "outputs": []
    },
    {
      "cell_type": "code",
      "metadata": {
        "colab": {
          "base_uri": "https://localhost:8080/",
          "height": 299
        },
        "id": "jH6llJtjkReB",
        "outputId": "f41817b8-c483-465c-b737-d5e9fe13958c"
      },
      "source": [
        "deaths_reported.head()"
      ],
      "execution_count": 31,
      "outputs": [
        {
          "output_type": "execute_result",
          "data": {
            "text/plain": [
              "  Province/State Country/Region       Lat       Long  1/22/20  1/23/20  \\\n",
              "0            NaN    Afghanistan  33.93911  67.709953        0        0   \n",
              "1            NaN        Albania  41.15330  20.168300        0        0   \n",
              "2            NaN        Algeria  28.03390   1.659600        0        0   \n",
              "3            NaN        Andorra  42.50630   1.521800        0        0   \n",
              "4            NaN         Angola -11.20270  17.873900        0        0   \n",
              "\n",
              "   1/24/20  1/25/20  1/26/20  1/27/20  ...  5/9/22  5/10/22  5/11/22  5/12/22  \\\n",
              "0        0        0        0        0  ...    7685     7685     7686     7686   \n",
              "1        0        0        0        0  ...    3497     3497     3497     3497   \n",
              "2        0        0        0        0  ...    6875     6875     6875     6875   \n",
              "3        0        0        0        0  ...     153      153      153      153   \n",
              "4        0        0        0        0  ...    1900     1900     1900     1900   \n",
              "\n",
              "   5/13/22  5/14/22  5/15/22  5/16/22  5/17/22  5/18/22  \n",
              "0     7686     7687     7690     7691     7691     7691  \n",
              "1     3497     3497     3497     3497     3497     3497  \n",
              "2     6875     6875     6875     6875     6875     6875  \n",
              "3      153      153      153      153      153      153  \n",
              "4     1900     1900     1900     1900     1900     1900  \n",
              "\n",
              "[5 rows x 852 columns]"
            ],
            "text/html": [
              "\n",
              "  <div id=\"df-a9685eff-eab9-457c-8f25-2dddc08db628\">\n",
              "    <div class=\"colab-df-container\">\n",
              "      <div>\n",
              "<style scoped>\n",
              "    .dataframe tbody tr th:only-of-type {\n",
              "        vertical-align: middle;\n",
              "    }\n",
              "\n",
              "    .dataframe tbody tr th {\n",
              "        vertical-align: top;\n",
              "    }\n",
              "\n",
              "    .dataframe thead th {\n",
              "        text-align: right;\n",
              "    }\n",
              "</style>\n",
              "<table border=\"1\" class=\"dataframe\">\n",
              "  <thead>\n",
              "    <tr style=\"text-align: right;\">\n",
              "      <th></th>\n",
              "      <th>Province/State</th>\n",
              "      <th>Country/Region</th>\n",
              "      <th>Lat</th>\n",
              "      <th>Long</th>\n",
              "      <th>1/22/20</th>\n",
              "      <th>1/23/20</th>\n",
              "      <th>1/24/20</th>\n",
              "      <th>1/25/20</th>\n",
              "      <th>1/26/20</th>\n",
              "      <th>1/27/20</th>\n",
              "      <th>...</th>\n",
              "      <th>5/9/22</th>\n",
              "      <th>5/10/22</th>\n",
              "      <th>5/11/22</th>\n",
              "      <th>5/12/22</th>\n",
              "      <th>5/13/22</th>\n",
              "      <th>5/14/22</th>\n",
              "      <th>5/15/22</th>\n",
              "      <th>5/16/22</th>\n",
              "      <th>5/17/22</th>\n",
              "      <th>5/18/22</th>\n",
              "    </tr>\n",
              "  </thead>\n",
              "  <tbody>\n",
              "    <tr>\n",
              "      <th>0</th>\n",
              "      <td>NaN</td>\n",
              "      <td>Afghanistan</td>\n",
              "      <td>33.93911</td>\n",
              "      <td>67.709953</td>\n",
              "      <td>0</td>\n",
              "      <td>0</td>\n",
              "      <td>0</td>\n",
              "      <td>0</td>\n",
              "      <td>0</td>\n",
              "      <td>0</td>\n",
              "      <td>...</td>\n",
              "      <td>7685</td>\n",
              "      <td>7685</td>\n",
              "      <td>7686</td>\n",
              "      <td>7686</td>\n",
              "      <td>7686</td>\n",
              "      <td>7687</td>\n",
              "      <td>7690</td>\n",
              "      <td>7691</td>\n",
              "      <td>7691</td>\n",
              "      <td>7691</td>\n",
              "    </tr>\n",
              "    <tr>\n",
              "      <th>1</th>\n",
              "      <td>NaN</td>\n",
              "      <td>Albania</td>\n",
              "      <td>41.15330</td>\n",
              "      <td>20.168300</td>\n",
              "      <td>0</td>\n",
              "      <td>0</td>\n",
              "      <td>0</td>\n",
              "      <td>0</td>\n",
              "      <td>0</td>\n",
              "      <td>0</td>\n",
              "      <td>...</td>\n",
              "      <td>3497</td>\n",
              "      <td>3497</td>\n",
              "      <td>3497</td>\n",
              "      <td>3497</td>\n",
              "      <td>3497</td>\n",
              "      <td>3497</td>\n",
              "      <td>3497</td>\n",
              "      <td>3497</td>\n",
              "      <td>3497</td>\n",
              "      <td>3497</td>\n",
              "    </tr>\n",
              "    <tr>\n",
              "      <th>2</th>\n",
              "      <td>NaN</td>\n",
              "      <td>Algeria</td>\n",
              "      <td>28.03390</td>\n",
              "      <td>1.659600</td>\n",
              "      <td>0</td>\n",
              "      <td>0</td>\n",
              "      <td>0</td>\n",
              "      <td>0</td>\n",
              "      <td>0</td>\n",
              "      <td>0</td>\n",
              "      <td>...</td>\n",
              "      <td>6875</td>\n",
              "      <td>6875</td>\n",
              "      <td>6875</td>\n",
              "      <td>6875</td>\n",
              "      <td>6875</td>\n",
              "      <td>6875</td>\n",
              "      <td>6875</td>\n",
              "      <td>6875</td>\n",
              "      <td>6875</td>\n",
              "      <td>6875</td>\n",
              "    </tr>\n",
              "    <tr>\n",
              "      <th>3</th>\n",
              "      <td>NaN</td>\n",
              "      <td>Andorra</td>\n",
              "      <td>42.50630</td>\n",
              "      <td>1.521800</td>\n",
              "      <td>0</td>\n",
              "      <td>0</td>\n",
              "      <td>0</td>\n",
              "      <td>0</td>\n",
              "      <td>0</td>\n",
              "      <td>0</td>\n",
              "      <td>...</td>\n",
              "      <td>153</td>\n",
              "      <td>153</td>\n",
              "      <td>153</td>\n",
              "      <td>153</td>\n",
              "      <td>153</td>\n",
              "      <td>153</td>\n",
              "      <td>153</td>\n",
              "      <td>153</td>\n",
              "      <td>153</td>\n",
              "      <td>153</td>\n",
              "    </tr>\n",
              "    <tr>\n",
              "      <th>4</th>\n",
              "      <td>NaN</td>\n",
              "      <td>Angola</td>\n",
              "      <td>-11.20270</td>\n",
              "      <td>17.873900</td>\n",
              "      <td>0</td>\n",
              "      <td>0</td>\n",
              "      <td>0</td>\n",
              "      <td>0</td>\n",
              "      <td>0</td>\n",
              "      <td>0</td>\n",
              "      <td>...</td>\n",
              "      <td>1900</td>\n",
              "      <td>1900</td>\n",
              "      <td>1900</td>\n",
              "      <td>1900</td>\n",
              "      <td>1900</td>\n",
              "      <td>1900</td>\n",
              "      <td>1900</td>\n",
              "      <td>1900</td>\n",
              "      <td>1900</td>\n",
              "      <td>1900</td>\n",
              "    </tr>\n",
              "  </tbody>\n",
              "</table>\n",
              "<p>5 rows × 852 columns</p>\n",
              "</div>\n",
              "      <button class=\"colab-df-convert\" onclick=\"convertToInteractive('df-a9685eff-eab9-457c-8f25-2dddc08db628')\"\n",
              "              title=\"Convert this dataframe to an interactive table.\"\n",
              "              style=\"display:none;\">\n",
              "        \n",
              "  <svg xmlns=\"http://www.w3.org/2000/svg\" height=\"24px\"viewBox=\"0 0 24 24\"\n",
              "       width=\"24px\">\n",
              "    <path d=\"M0 0h24v24H0V0z\" fill=\"none\"/>\n",
              "    <path d=\"M18.56 5.44l.94 2.06.94-2.06 2.06-.94-2.06-.94-.94-2.06-.94 2.06-2.06.94zm-11 1L8.5 8.5l.94-2.06 2.06-.94-2.06-.94L8.5 2.5l-.94 2.06-2.06.94zm10 10l.94 2.06.94-2.06 2.06-.94-2.06-.94-.94-2.06-.94 2.06-2.06.94z\"/><path d=\"M17.41 7.96l-1.37-1.37c-.4-.4-.92-.59-1.43-.59-.52 0-1.04.2-1.43.59L10.3 9.45l-7.72 7.72c-.78.78-.78 2.05 0 2.83L4 21.41c.39.39.9.59 1.41.59.51 0 1.02-.2 1.41-.59l7.78-7.78 2.81-2.81c.8-.78.8-2.07 0-2.86zM5.41 20L4 18.59l7.72-7.72 1.47 1.35L5.41 20z\"/>\n",
              "  </svg>\n",
              "      </button>\n",
              "      \n",
              "  <style>\n",
              "    .colab-df-container {\n",
              "      display:flex;\n",
              "      flex-wrap:wrap;\n",
              "      gap: 12px;\n",
              "    }\n",
              "\n",
              "    .colab-df-convert {\n",
              "      background-color: #E8F0FE;\n",
              "      border: none;\n",
              "      border-radius: 50%;\n",
              "      cursor: pointer;\n",
              "      display: none;\n",
              "      fill: #1967D2;\n",
              "      height: 32px;\n",
              "      padding: 0 0 0 0;\n",
              "      width: 32px;\n",
              "    }\n",
              "\n",
              "    .colab-df-convert:hover {\n",
              "      background-color: #E2EBFA;\n",
              "      box-shadow: 0px 1px 2px rgba(60, 64, 67, 0.3), 0px 1px 3px 1px rgba(60, 64, 67, 0.15);\n",
              "      fill: #174EA6;\n",
              "    }\n",
              "\n",
              "    [theme=dark] .colab-df-convert {\n",
              "      background-color: #3B4455;\n",
              "      fill: #D2E3FC;\n",
              "    }\n",
              "\n",
              "    [theme=dark] .colab-df-convert:hover {\n",
              "      background-color: #434B5C;\n",
              "      box-shadow: 0px 1px 3px 1px rgba(0, 0, 0, 0.15);\n",
              "      filter: drop-shadow(0px 1px 2px rgba(0, 0, 0, 0.3));\n",
              "      fill: #FFFFFF;\n",
              "    }\n",
              "  </style>\n",
              "\n",
              "      <script>\n",
              "        const buttonEl =\n",
              "          document.querySelector('#df-a9685eff-eab9-457c-8f25-2dddc08db628 button.colab-df-convert');\n",
              "        buttonEl.style.display =\n",
              "          google.colab.kernel.accessAllowed ? 'block' : 'none';\n",
              "\n",
              "        async function convertToInteractive(key) {\n",
              "          const element = document.querySelector('#df-a9685eff-eab9-457c-8f25-2dddc08db628');\n",
              "          const dataTable =\n",
              "            await google.colab.kernel.invokeFunction('convertToInteractive',\n",
              "                                                     [key], {});\n",
              "          if (!dataTable) return;\n",
              "\n",
              "          const docLinkHtml = 'Like what you see? Visit the ' +\n",
              "            '<a target=\"_blank\" href=https://colab.research.google.com/notebooks/data_table.ipynb>data table notebook</a>'\n",
              "            + ' to learn more about interactive tables.';\n",
              "          element.innerHTML = '';\n",
              "          dataTable['output_type'] = 'display_data';\n",
              "          await google.colab.output.renderOutput(dataTable, element);\n",
              "          const docLink = document.createElement('div');\n",
              "          docLink.innerHTML = docLinkHtml;\n",
              "          element.appendChild(docLink);\n",
              "        }\n",
              "      </script>\n",
              "    </div>\n",
              "  </div>\n",
              "  "
            ]
          },
          "metadata": {},
          "execution_count": 31
        }
      ]
    },
    {
      "cell_type": "code",
      "metadata": {
        "colab": {
          "base_uri": "https://localhost:8080/"
        },
        "id": "jPaPLu4SkWi0",
        "outputId": "723ef035-6c32-426e-fb47-0c2fa4de5eb4"
      },
      "source": [
        "cols= deaths_reported.keys()\n",
        "print(cols)"
      ],
      "execution_count": 32,
      "outputs": [
        {
          "output_type": "stream",
          "name": "stdout",
          "text": [
            "Index(['Province/State', 'Country/Region', 'Lat', 'Long', '1/22/20', '1/23/20',\n",
            "       '1/24/20', '1/25/20', '1/26/20', '1/27/20',\n",
            "       ...\n",
            "       '5/9/22', '5/10/22', '5/11/22', '5/12/22', '5/13/22', '5/14/22',\n",
            "       '5/15/22', '5/16/22', '5/17/22', '5/18/22'],\n",
            "      dtype='object', length=852)\n"
          ]
        }
      ]
    },
    {
      "cell_type": "code",
      "metadata": {
        "colab": {
          "base_uri": "https://localhost:8080/",
          "height": 488
        },
        "id": "wlBFpoH7kf1O",
        "outputId": "c0405b3d-6204-4f74-e61d-fb38eebb5224"
      },
      "source": [
        "deaths = deaths_reported.loc[:,cols[4]:cols[-1]]\n",
        "deaths"
      ],
      "execution_count": 33,
      "outputs": [
        {
          "output_type": "execute_result",
          "data": {
            "text/plain": [
              "     1/22/20  1/23/20  1/24/20  1/25/20  1/26/20  1/27/20  1/28/20  1/29/20  \\\n",
              "0          0        0        0        0        0        0        0        0   \n",
              "1          0        0        0        0        0        0        0        0   \n",
              "2          0        0        0        0        0        0        0        0   \n",
              "3          0        0        0        0        0        0        0        0   \n",
              "4          0        0        0        0        0        0        0        0   \n",
              "..       ...      ...      ...      ...      ...      ...      ...      ...   \n",
              "280        0        0        0        0        0        0        0        0   \n",
              "281        0        0        0        0        0        0        0        0   \n",
              "282        0        0        0        0        0        0        0        0   \n",
              "283        0        0        0        0        0        0        0        0   \n",
              "284        0        0        0        0        0        0        0        0   \n",
              "\n",
              "     1/30/20  1/31/20  ...  5/9/22  5/10/22  5/11/22  5/12/22  5/13/22  \\\n",
              "0          0        0  ...    7685     7685     7686     7686     7686   \n",
              "1          0        0  ...    3497     3497     3497     3497     3497   \n",
              "2          0        0  ...    6875     6875     6875     6875     6875   \n",
              "3          0        0  ...     153      153      153      153      153   \n",
              "4          0        0  ...    1900     1900     1900     1900     1900   \n",
              "..       ...      ...  ...     ...      ...      ...      ...      ...   \n",
              "280        0        0  ...    5657     5657     5657     5657     5657   \n",
              "281        0        0  ...       0        0        0        0        0   \n",
              "282        0        0  ...    2149     2149     2149     2149     2149   \n",
              "283        0        0  ...    3982     3983     3983     3983     3983   \n",
              "284        0        0  ...    5479     5481     5481     5481     5482   \n",
              "\n",
              "     5/14/22  5/15/22  5/16/22  5/17/22  5/18/22  \n",
              "0       7687     7690     7691     7691     7691  \n",
              "1       3497     3497     3497     3497     3497  \n",
              "2       6875     6875     6875     6875     6875  \n",
              "3        153      153      153      153      153  \n",
              "4       1900     1900     1900     1900     1900  \n",
              "..       ...      ...      ...      ...      ...  \n",
              "280     5657     5657     5657     5659     5659  \n",
              "281        0        0        0        0        0  \n",
              "282     2149     2149     2149     2149     2149  \n",
              "283     3983     3983     3983     3983     3983  \n",
              "284     5482     5482     5484     5484     5486  \n",
              "\n",
              "[285 rows x 848 columns]"
            ],
            "text/html": [
              "\n",
              "  <div id=\"df-056a709e-85be-4a7b-b1ae-b99c837f4325\">\n",
              "    <div class=\"colab-df-container\">\n",
              "      <div>\n",
              "<style scoped>\n",
              "    .dataframe tbody tr th:only-of-type {\n",
              "        vertical-align: middle;\n",
              "    }\n",
              "\n",
              "    .dataframe tbody tr th {\n",
              "        vertical-align: top;\n",
              "    }\n",
              "\n",
              "    .dataframe thead th {\n",
              "        text-align: right;\n",
              "    }\n",
              "</style>\n",
              "<table border=\"1\" class=\"dataframe\">\n",
              "  <thead>\n",
              "    <tr style=\"text-align: right;\">\n",
              "      <th></th>\n",
              "      <th>1/22/20</th>\n",
              "      <th>1/23/20</th>\n",
              "      <th>1/24/20</th>\n",
              "      <th>1/25/20</th>\n",
              "      <th>1/26/20</th>\n",
              "      <th>1/27/20</th>\n",
              "      <th>1/28/20</th>\n",
              "      <th>1/29/20</th>\n",
              "      <th>1/30/20</th>\n",
              "      <th>1/31/20</th>\n",
              "      <th>...</th>\n",
              "      <th>5/9/22</th>\n",
              "      <th>5/10/22</th>\n",
              "      <th>5/11/22</th>\n",
              "      <th>5/12/22</th>\n",
              "      <th>5/13/22</th>\n",
              "      <th>5/14/22</th>\n",
              "      <th>5/15/22</th>\n",
              "      <th>5/16/22</th>\n",
              "      <th>5/17/22</th>\n",
              "      <th>5/18/22</th>\n",
              "    </tr>\n",
              "  </thead>\n",
              "  <tbody>\n",
              "    <tr>\n",
              "      <th>0</th>\n",
              "      <td>0</td>\n",
              "      <td>0</td>\n",
              "      <td>0</td>\n",
              "      <td>0</td>\n",
              "      <td>0</td>\n",
              "      <td>0</td>\n",
              "      <td>0</td>\n",
              "      <td>0</td>\n",
              "      <td>0</td>\n",
              "      <td>0</td>\n",
              "      <td>...</td>\n",
              "      <td>7685</td>\n",
              "      <td>7685</td>\n",
              "      <td>7686</td>\n",
              "      <td>7686</td>\n",
              "      <td>7686</td>\n",
              "      <td>7687</td>\n",
              "      <td>7690</td>\n",
              "      <td>7691</td>\n",
              "      <td>7691</td>\n",
              "      <td>7691</td>\n",
              "    </tr>\n",
              "    <tr>\n",
              "      <th>1</th>\n",
              "      <td>0</td>\n",
              "      <td>0</td>\n",
              "      <td>0</td>\n",
              "      <td>0</td>\n",
              "      <td>0</td>\n",
              "      <td>0</td>\n",
              "      <td>0</td>\n",
              "      <td>0</td>\n",
              "      <td>0</td>\n",
              "      <td>0</td>\n",
              "      <td>...</td>\n",
              "      <td>3497</td>\n",
              "      <td>3497</td>\n",
              "      <td>3497</td>\n",
              "      <td>3497</td>\n",
              "      <td>3497</td>\n",
              "      <td>3497</td>\n",
              "      <td>3497</td>\n",
              "      <td>3497</td>\n",
              "      <td>3497</td>\n",
              "      <td>3497</td>\n",
              "    </tr>\n",
              "    <tr>\n",
              "      <th>2</th>\n",
              "      <td>0</td>\n",
              "      <td>0</td>\n",
              "      <td>0</td>\n",
              "      <td>0</td>\n",
              "      <td>0</td>\n",
              "      <td>0</td>\n",
              "      <td>0</td>\n",
              "      <td>0</td>\n",
              "      <td>0</td>\n",
              "      <td>0</td>\n",
              "      <td>...</td>\n",
              "      <td>6875</td>\n",
              "      <td>6875</td>\n",
              "      <td>6875</td>\n",
              "      <td>6875</td>\n",
              "      <td>6875</td>\n",
              "      <td>6875</td>\n",
              "      <td>6875</td>\n",
              "      <td>6875</td>\n",
              "      <td>6875</td>\n",
              "      <td>6875</td>\n",
              "    </tr>\n",
              "    <tr>\n",
              "      <th>3</th>\n",
              "      <td>0</td>\n",
              "      <td>0</td>\n",
              "      <td>0</td>\n",
              "      <td>0</td>\n",
              "      <td>0</td>\n",
              "      <td>0</td>\n",
              "      <td>0</td>\n",
              "      <td>0</td>\n",
              "      <td>0</td>\n",
              "      <td>0</td>\n",
              "      <td>...</td>\n",
              "      <td>153</td>\n",
              "      <td>153</td>\n",
              "      <td>153</td>\n",
              "      <td>153</td>\n",
              "      <td>153</td>\n",
              "      <td>153</td>\n",
              "      <td>153</td>\n",
              "      <td>153</td>\n",
              "      <td>153</td>\n",
              "      <td>153</td>\n",
              "    </tr>\n",
              "    <tr>\n",
              "      <th>4</th>\n",
              "      <td>0</td>\n",
              "      <td>0</td>\n",
              "      <td>0</td>\n",
              "      <td>0</td>\n",
              "      <td>0</td>\n",
              "      <td>0</td>\n",
              "      <td>0</td>\n",
              "      <td>0</td>\n",
              "      <td>0</td>\n",
              "      <td>0</td>\n",
              "      <td>...</td>\n",
              "      <td>1900</td>\n",
              "      <td>1900</td>\n",
              "      <td>1900</td>\n",
              "      <td>1900</td>\n",
              "      <td>1900</td>\n",
              "      <td>1900</td>\n",
              "      <td>1900</td>\n",
              "      <td>1900</td>\n",
              "      <td>1900</td>\n",
              "      <td>1900</td>\n",
              "    </tr>\n",
              "    <tr>\n",
              "      <th>...</th>\n",
              "      <td>...</td>\n",
              "      <td>...</td>\n",
              "      <td>...</td>\n",
              "      <td>...</td>\n",
              "      <td>...</td>\n",
              "      <td>...</td>\n",
              "      <td>...</td>\n",
              "      <td>...</td>\n",
              "      <td>...</td>\n",
              "      <td>...</td>\n",
              "      <td>...</td>\n",
              "      <td>...</td>\n",
              "      <td>...</td>\n",
              "      <td>...</td>\n",
              "      <td>...</td>\n",
              "      <td>...</td>\n",
              "      <td>...</td>\n",
              "      <td>...</td>\n",
              "      <td>...</td>\n",
              "      <td>...</td>\n",
              "      <td>...</td>\n",
              "    </tr>\n",
              "    <tr>\n",
              "      <th>280</th>\n",
              "      <td>0</td>\n",
              "      <td>0</td>\n",
              "      <td>0</td>\n",
              "      <td>0</td>\n",
              "      <td>0</td>\n",
              "      <td>0</td>\n",
              "      <td>0</td>\n",
              "      <td>0</td>\n",
              "      <td>0</td>\n",
              "      <td>0</td>\n",
              "      <td>...</td>\n",
              "      <td>5657</td>\n",
              "      <td>5657</td>\n",
              "      <td>5657</td>\n",
              "      <td>5657</td>\n",
              "      <td>5657</td>\n",
              "      <td>5657</td>\n",
              "      <td>5657</td>\n",
              "      <td>5657</td>\n",
              "      <td>5659</td>\n",
              "      <td>5659</td>\n",
              "    </tr>\n",
              "    <tr>\n",
              "      <th>281</th>\n",
              "      <td>0</td>\n",
              "      <td>0</td>\n",
              "      <td>0</td>\n",
              "      <td>0</td>\n",
              "      <td>0</td>\n",
              "      <td>0</td>\n",
              "      <td>0</td>\n",
              "      <td>0</td>\n",
              "      <td>0</td>\n",
              "      <td>0</td>\n",
              "      <td>...</td>\n",
              "      <td>0</td>\n",
              "      <td>0</td>\n",
              "      <td>0</td>\n",
              "      <td>0</td>\n",
              "      <td>0</td>\n",
              "      <td>0</td>\n",
              "      <td>0</td>\n",
              "      <td>0</td>\n",
              "      <td>0</td>\n",
              "      <td>0</td>\n",
              "    </tr>\n",
              "    <tr>\n",
              "      <th>282</th>\n",
              "      <td>0</td>\n",
              "      <td>0</td>\n",
              "      <td>0</td>\n",
              "      <td>0</td>\n",
              "      <td>0</td>\n",
              "      <td>0</td>\n",
              "      <td>0</td>\n",
              "      <td>0</td>\n",
              "      <td>0</td>\n",
              "      <td>0</td>\n",
              "      <td>...</td>\n",
              "      <td>2149</td>\n",
              "      <td>2149</td>\n",
              "      <td>2149</td>\n",
              "      <td>2149</td>\n",
              "      <td>2149</td>\n",
              "      <td>2149</td>\n",
              "      <td>2149</td>\n",
              "      <td>2149</td>\n",
              "      <td>2149</td>\n",
              "      <td>2149</td>\n",
              "    </tr>\n",
              "    <tr>\n",
              "      <th>283</th>\n",
              "      <td>0</td>\n",
              "      <td>0</td>\n",
              "      <td>0</td>\n",
              "      <td>0</td>\n",
              "      <td>0</td>\n",
              "      <td>0</td>\n",
              "      <td>0</td>\n",
              "      <td>0</td>\n",
              "      <td>0</td>\n",
              "      <td>0</td>\n",
              "      <td>...</td>\n",
              "      <td>3982</td>\n",
              "      <td>3983</td>\n",
              "      <td>3983</td>\n",
              "      <td>3983</td>\n",
              "      <td>3983</td>\n",
              "      <td>3983</td>\n",
              "      <td>3983</td>\n",
              "      <td>3983</td>\n",
              "      <td>3983</td>\n",
              "      <td>3983</td>\n",
              "    </tr>\n",
              "    <tr>\n",
              "      <th>284</th>\n",
              "      <td>0</td>\n",
              "      <td>0</td>\n",
              "      <td>0</td>\n",
              "      <td>0</td>\n",
              "      <td>0</td>\n",
              "      <td>0</td>\n",
              "      <td>0</td>\n",
              "      <td>0</td>\n",
              "      <td>0</td>\n",
              "      <td>0</td>\n",
              "      <td>...</td>\n",
              "      <td>5479</td>\n",
              "      <td>5481</td>\n",
              "      <td>5481</td>\n",
              "      <td>5481</td>\n",
              "      <td>5482</td>\n",
              "      <td>5482</td>\n",
              "      <td>5482</td>\n",
              "      <td>5484</td>\n",
              "      <td>5484</td>\n",
              "      <td>5486</td>\n",
              "    </tr>\n",
              "  </tbody>\n",
              "</table>\n",
              "<p>285 rows × 848 columns</p>\n",
              "</div>\n",
              "      <button class=\"colab-df-convert\" onclick=\"convertToInteractive('df-056a709e-85be-4a7b-b1ae-b99c837f4325')\"\n",
              "              title=\"Convert this dataframe to an interactive table.\"\n",
              "              style=\"display:none;\">\n",
              "        \n",
              "  <svg xmlns=\"http://www.w3.org/2000/svg\" height=\"24px\"viewBox=\"0 0 24 24\"\n",
              "       width=\"24px\">\n",
              "    <path d=\"M0 0h24v24H0V0z\" fill=\"none\"/>\n",
              "    <path d=\"M18.56 5.44l.94 2.06.94-2.06 2.06-.94-2.06-.94-.94-2.06-.94 2.06-2.06.94zm-11 1L8.5 8.5l.94-2.06 2.06-.94-2.06-.94L8.5 2.5l-.94 2.06-2.06.94zm10 10l.94 2.06.94-2.06 2.06-.94-2.06-.94-.94-2.06-.94 2.06-2.06.94z\"/><path d=\"M17.41 7.96l-1.37-1.37c-.4-.4-.92-.59-1.43-.59-.52 0-1.04.2-1.43.59L10.3 9.45l-7.72 7.72c-.78.78-.78 2.05 0 2.83L4 21.41c.39.39.9.59 1.41.59.51 0 1.02-.2 1.41-.59l7.78-7.78 2.81-2.81c.8-.78.8-2.07 0-2.86zM5.41 20L4 18.59l7.72-7.72 1.47 1.35L5.41 20z\"/>\n",
              "  </svg>\n",
              "      </button>\n",
              "      \n",
              "  <style>\n",
              "    .colab-df-container {\n",
              "      display:flex;\n",
              "      flex-wrap:wrap;\n",
              "      gap: 12px;\n",
              "    }\n",
              "\n",
              "    .colab-df-convert {\n",
              "      background-color: #E8F0FE;\n",
              "      border: none;\n",
              "      border-radius: 50%;\n",
              "      cursor: pointer;\n",
              "      display: none;\n",
              "      fill: #1967D2;\n",
              "      height: 32px;\n",
              "      padding: 0 0 0 0;\n",
              "      width: 32px;\n",
              "    }\n",
              "\n",
              "    .colab-df-convert:hover {\n",
              "      background-color: #E2EBFA;\n",
              "      box-shadow: 0px 1px 2px rgba(60, 64, 67, 0.3), 0px 1px 3px 1px rgba(60, 64, 67, 0.15);\n",
              "      fill: #174EA6;\n",
              "    }\n",
              "\n",
              "    [theme=dark] .colab-df-convert {\n",
              "      background-color: #3B4455;\n",
              "      fill: #D2E3FC;\n",
              "    }\n",
              "\n",
              "    [theme=dark] .colab-df-convert:hover {\n",
              "      background-color: #434B5C;\n",
              "      box-shadow: 0px 1px 3px 1px rgba(0, 0, 0, 0.15);\n",
              "      filter: drop-shadow(0px 1px 2px rgba(0, 0, 0, 0.3));\n",
              "      fill: #FFFFFF;\n",
              "    }\n",
              "  </style>\n",
              "\n",
              "      <script>\n",
              "        const buttonEl =\n",
              "          document.querySelector('#df-056a709e-85be-4a7b-b1ae-b99c837f4325 button.colab-df-convert');\n",
              "        buttonEl.style.display =\n",
              "          google.colab.kernel.accessAllowed ? 'block' : 'none';\n",
              "\n",
              "        async function convertToInteractive(key) {\n",
              "          const element = document.querySelector('#df-056a709e-85be-4a7b-b1ae-b99c837f4325');\n",
              "          const dataTable =\n",
              "            await google.colab.kernel.invokeFunction('convertToInteractive',\n",
              "                                                     [key], {});\n",
              "          if (!dataTable) return;\n",
              "\n",
              "          const docLinkHtml = 'Like what you see? Visit the ' +\n",
              "            '<a target=\"_blank\" href=https://colab.research.google.com/notebooks/data_table.ipynb>data table notebook</a>'\n",
              "            + ' to learn more about interactive tables.';\n",
              "          element.innerHTML = '';\n",
              "          dataTable['output_type'] = 'display_data';\n",
              "          await google.colab.output.renderOutput(dataTable, element);\n",
              "          const docLink = document.createElement('div');\n",
              "          docLink.innerHTML = docLinkHtml;\n",
              "          element.appendChild(docLink);\n",
              "        }\n",
              "      </script>\n",
              "    </div>\n",
              "  </div>\n",
              "  "
            ]
          },
          "metadata": {},
          "execution_count": 33
        }
      ]
    },
    {
      "cell_type": "code",
      "metadata": {
        "colab": {
          "base_uri": "https://localhost:8080/"
        },
        "id": "y-321z-Zkn_7",
        "outputId": "8863f3b8-1ab1-4840-835e-65276d7498b9"
      },
      "source": [
        "dates= deaths.keys()\n",
        "dates"
      ],
      "execution_count": 34,
      "outputs": [
        {
          "output_type": "execute_result",
          "data": {
            "text/plain": [
              "Index(['1/22/20', '1/23/20', '1/24/20', '1/25/20', '1/26/20', '1/27/20',\n",
              "       '1/28/20', '1/29/20', '1/30/20', '1/31/20',\n",
              "       ...\n",
              "       '5/9/22', '5/10/22', '5/11/22', '5/12/22', '5/13/22', '5/14/22',\n",
              "       '5/15/22', '5/16/22', '5/17/22', '5/18/22'],\n",
              "      dtype='object', length=848)"
            ]
          },
          "metadata": {},
          "execution_count": 34
        }
      ]
    },
    {
      "cell_type": "code",
      "metadata": {
        "id": "quACpMmDkqxW"
      },
      "source": [
        "world_deaths=[]\n",
        "\n",
        "\n",
        "for i in dates:\n",
        "   \n",
        "   deaths_sum= deaths[i].sum()\n",
        "\n",
        "    \n",
        "   \n",
        "   \n",
        "   world_deaths.append(deaths_sum)\n",
        "  \n",
        "   \n",
        "\n",
        "\n"
      ],
      "execution_count": 35,
      "outputs": []
    },
    {
      "cell_type": "code",
      "metadata": {
        "colab": {
          "base_uri": "https://localhost:8080/"
        },
        "id": "poRDRwsXkvJg",
        "outputId": "abf00bbf-5c2c-4954-9cc9-2ea8e58007d4"
      },
      "source": [
        "print(deaths_sum)"
      ],
      "execution_count": 36,
      "outputs": [
        {
          "output_type": "stream",
          "name": "stdout",
          "text": [
            "6271630\n"
          ]
        }
      ]
    },
    {
      "cell_type": "code",
      "metadata": {
        "id": "gqNVulDWk1Jh"
      },
      "source": [
        "#changing dates into days\n",
        "v=1\n",
        "day_date=[]\n",
        "for i in range(len(dates)):\n",
        "  v=i*1\n",
        "  day_date.append(v)\n",
        "#day_date\n"
      ],
      "execution_count": 37,
      "outputs": []
    },
    {
      "cell_type": "code",
      "metadata": {
        "colab": {
          "base_uri": "https://localhost:8080/",
          "height": 710
        },
        "id": "Yc5GQbqdk5bp",
        "outputId": "0691d87c-3e90-4934-a5f4-9a98eb558c92"
      },
      "source": [
        "#ploing the cases[confirmed,recovered,deaths] with time\n",
        "plt.figure(figsize=(20,12))\n",
        "plt.plot(day_date,world_deaths,color='red')\n",
        "plt.show"
      ],
      "execution_count": 38,
      "outputs": [
        {
          "output_type": "execute_result",
          "data": {
            "text/plain": [
              "<function matplotlib.pyplot.show(*args, **kw)>"
            ]
          },
          "metadata": {},
          "execution_count": 38
        },
        {
          "output_type": "display_data",
          "data": {
            "text/plain": [
              "<Figure size 1440x864 with 1 Axes>"
            ],
            "image/png": "[encoded data removed]"
          },
          "metadata": {
            "needs_background": "light"
          }
        }
      ]
    },
    {
      "cell_type": "code",
      "metadata": {
        "colab": {
          "base_uri": "https://localhost:8080/"
        },
        "id": "-YeALQfRlA82",
        "outputId": "078463dc-db57-451a-e5b3-e9baf103ea1f"
      },
      "source": [
        "print(type(world_deaths))"
      ],
      "execution_count": 39,
      "outputs": [
        {
          "output_type": "stream",
          "name": "stdout",
          "text": [
            "<class 'list'>\n"
          ]
        }
      ]
    },
    {
      "cell_type": "code",
      "metadata": {
        "id": "a_tujp43lEMN"
      },
      "source": [
        "world_deaths = np.array(world_deaths).reshape(-1,1)"
      ],
      "execution_count": 40,
      "outputs": []
    },
    {
      "cell_type": "code",
      "metadata": {
        "colab": {
          "base_uri": "https://localhost:8080/"
        },
        "id": "Ch62H_KzlIXa",
        "outputId": "6b942702-db36-42d7-bb02-bd2e7602e072"
      },
      "source": [
        "print(world_deaths.shape)"
      ],
      "execution_count": 41,
      "outputs": [
        {
          "output_type": "stream",
          "name": "stdout",
          "text": [
            "(848, 1)\n"
          ]
        }
      ]
    },
    {
      "cell_type": "code",
      "metadata": {
        "colab": {
          "base_uri": "https://localhost:8080/"
        },
        "id": "Mfe9CLBIlMk9",
        "outputId": "2f9c0594-ef06-492c-9ebd-bcbe659fafc8"
      },
      "source": [
        "days= np.array(day_date).reshape(-1,1)\n",
        "print(days.shape)"
      ],
      "execution_count": 42,
      "outputs": [
        {
          "output_type": "stream",
          "name": "stdout",
          "text": [
            "(848, 1)\n"
          ]
        }
      ]
    },
    {
      "cell_type": "code",
      "metadata": {
        "id": "LOrf-VvklQYu"
      },
      "source": [
        "days_in_future= 10\n",
        "\n",
        "future_forcast_deaths = np.array([i for i in range(len(days)+ days_in_future)]).reshape(-1,1)\n",
        "\n",
        "adjusted_dates = future_forcast_deaths[:-10]"
      ],
      "execution_count": 43,
      "outputs": []
    },
    {
      "cell_type": "code",
      "metadata": {
        "id": "CDoNFM6VlSyG"
      },
      "source": [
        "x_train_deaths,x_test_deaths,y_train_deaths,y_test_deaths = train_test_split(days,world_deaths,test_size=0.25,shuffle=False)"
      ],
      "execution_count": 44,
      "outputs": []
    },
    {
      "cell_type": "code",
      "metadata": {
        "id": "Z_SY3h28lVV3"
      },
      "source": [
        " from sklearn.preprocessing import PolynomialFeatures\n",
        "poly =PolynomialFeatures(degree=3)\n",
        "poly_x_train_deaths= poly.fit_transform(x_train_deaths)\n",
        "poly_x_test_deaths=poly.fit_transform(x_test_deaths)\n",
        "poly_future_forcast_deaths= poly.fit_transform(future_forcast_deaths)\n",
        "\n"
      ],
      "execution_count": 45,
      "outputs": []
    },
    {
      "cell_type": "code",
      "metadata": {
        "colab": {
          "base_uri": "https://localhost:8080/"
        },
        "id": "ukW_ldVula-X",
        "outputId": "18349cc3-de33-4eaa-c342-59ff9b463f86"
      },
      "source": [
        "model= LinearRegression()\n",
        "model.fit(poly_x_train_deaths,y_train_deaths)"
      ],
      "execution_count": 46,
      "outputs": [
        {
          "output_type": "execute_result",
          "data": {
            "text/plain": [
              "LinearRegression()"
            ]
          },
          "metadata": {},
          "execution_count": 46
        }
      ]
    },
    {
      "cell_type": "code",
      "metadata": {
        "id": "iZ2Ia3UglbKm"
      },
      "source": [
        "test_pred_deaths =model.predict(poly_x_test_deaths)"
      ],
      "execution_count": 47,
      "outputs": []
    },
    {
      "cell_type": "code",
      "metadata": {
        "id": "xsjx_ChwlbSp"
      },
      "source": [
        "predictions_deaths = model.predict(poly_future_forcast_deaths)\n"
      ],
      "execution_count": 48,
      "outputs": []
    },
    {
      "cell_type": "code",
      "metadata": {
        "colab": {
          "base_uri": "https://localhost:8080/",
          "height": 293
        },
        "id": "oMWeT-AJlbaY",
        "outputId": "3b14caff-3711-430d-f87e-83ce561166c3"
      },
      "source": [
        "plt.plot(y_test_deaths,color='red')\n",
        "plt.plot(test_pred_deaths)"
      ],
      "execution_count": 62,
      "outputs": [
        {
          "output_type": "execute_result",
          "data": {
            "text/plain": [
              "[<matplotlib.lines.Line2D at 0x7f77e6dcab50>]"
            ]
          },
          "metadata": {},
          "execution_count": 62
        },
        {
          "output_type": "display_data",
          "data": {
            "text/plain": [
              "<Figure size 432x288 with 1 Axes>"
            ],
            "image/png": "[encoded data removed]"
          },
          "metadata": {
            "needs_background": "light"
          }
        }
      ]
    }
  ]
}